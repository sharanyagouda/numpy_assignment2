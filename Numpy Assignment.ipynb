{
 "cells": [
  {
   "cell_type": "code",
   "execution_count": 6,
   "id": "6d75f044",
   "metadata": {},
   "outputs": [
    {
     "name": "stdout",
     "output_type": "stream",
     "text": [
      "[0. 0. 0. 0. 1. 0. 0. 0. 0. 0.]\n"
     ]
    }
   ],
   "source": [
    "#Create a null vector of size 10 but the fifth value which is 1.\n",
    "import numpy as np\n",
    "\n",
    "arr=np.zeros(10)\n",
    "arr[4]=1\n",
    "print(arr)"
   ]
  },
  {
   "cell_type": "code",
   "execution_count": 8,
   "id": "439b44c7",
   "metadata": {},
   "outputs": [
    {
     "name": "stdout",
     "output_type": "stream",
     "text": [
      "[10 11 12 13 14 15 16 17 18 19 20 21 22 23 24 25 26 27 28 29 30 31 32 33\n",
      " 34 35 36 37 38 39 40 41 42 43 44 45 46 47 48]\n"
     ]
    }
   ],
   "source": [
    "#Create a vector with values ranging from 10 to 49\n",
    "arr=np.arange(10,49)\n",
    "print(arr)"
   ]
  },
  {
   "cell_type": "code",
   "execution_count": 13,
   "id": "8908adf3",
   "metadata": {},
   "outputs": [
    {
     "data": {
      "text/plain": [
       "array([[0, 1, 2],\n",
       "       [3, 4, 5],\n",
       "       [6, 7, 8]])"
      ]
     },
     "execution_count": 13,
     "metadata": {},
     "output_type": "execute_result"
    }
   ],
   "source": [
    "# Create a 3x3 matrix with values ranging from 0 to 8\n",
    "matrix=np.arange(9).reshape(3,3)\n",
    "matrix"
   ]
  },
  {
   "cell_type": "code",
   "execution_count": 14,
   "id": "89dea86a",
   "metadata": {},
   "outputs": [
    {
     "name": "stdout",
     "output_type": "stream",
     "text": [
      "Numbers: [0, 0, 3, 4, 0, 0]\n",
      "(array([2, 3], dtype=int64),)\n"
     ]
    }
   ],
   "source": [
    "# Find indices of non-zero elements from [1,2,0,0,4,0]\n",
    "numbers=[0,0,3,4,0,0]\n",
    "print(f\"Numbers: {numbers}\")\n",
    "zeroindices=np.nonzero(numbers)\n",
    "print(zeroindices)"
   ]
  },
  {
   "cell_type": "code",
   "execution_count": 27,
   "id": "6a2e628e",
   "metadata": {},
   "outputs": [
    {
     "name": "stdout",
     "output_type": "stream",
     "text": [
      "[[22 97 59 71 87  3 39 99 95  8]\n",
      " [84 40 91 92 83 37 46 26 71 41]\n",
      " [44 72 97 18 27 47 51  9 62 54]\n",
      " [97 93 20 48 50 30 20 20  2 38]\n",
      " [32 47 68 31 85 16 16 72 78 11]\n",
      " [70 14 19 35 12 61 21 80 94 90]\n",
      " [ 8 63 29  5 69 64 60 96 40 80]\n",
      " [ 5 46  4 54 49 86  9 67 86  6]\n",
      " [76  7 97 75 36 78 83 87 16 49]\n",
      " [12 44 27 68 51 59 72  2 24 53]]\n",
      "2\n",
      "99\n"
     ]
    }
   ],
   "source": [
    "#Create a 10x10 array with random values and find the minimum and maximum values.\n",
    "arr=np.random.randint(100,size=(10,10))\n",
    "print(arr)\n",
    "print(np.min(arr))\n",
    "print(np.max(arr))\n"
   ]
  },
  {
   "cell_type": "code",
   "execution_count": 37,
   "id": "ac828660",
   "metadata": {},
   "outputs": [
    {
     "name": "stdout",
     "output_type": "stream",
     "text": [
      "[0.32945682 0.59891945 0.30538263 0.0256992  0.08865863 0.80265617\n",
      " 0.04564705 0.53779551 0.49270708 0.98605721 0.14636969 0.2418544\n",
      " 0.42779298 0.27065693 0.15371495 0.06764028 0.07072935 0.44266182\n",
      " 0.02906374 0.44604759 0.36704925 0.75200542 0.30428132 0.75023294\n",
      " 0.70845043 0.64179768 0.00911217 0.97439702 0.81207106 0.28605766]\n",
      "0.40383221458898266\n"
     ]
    }
   ],
   "source": [
    "# Create a random vector of size 30 and find the mean value.\n",
    "\n",
    "arr=np.random.random(30)\n",
    "print(arr)\n",
    "\n",
    "print(np.mean(arr))"
   ]
  },
  {
   "cell_type": "code",
   "execution_count": null,
   "id": "d7a2be14",
   "metadata": {},
   "outputs": [],
   "source": []
  }
 ],
 "metadata": {
  "kernelspec": {
   "display_name": "Python 3 (ipykernel)",
   "language": "python",
   "name": "python3"
  },
  "language_info": {
   "codemirror_mode": {
    "name": "ipython",
    "version": 3
   },
   "file_extension": ".py",
   "mimetype": "text/x-python",
   "name": "python",
   "nbconvert_exporter": "python",
   "pygments_lexer": "ipython3",
   "version": "3.11.0"
  }
 },
 "nbformat": 4,
 "nbformat_minor": 5
}
